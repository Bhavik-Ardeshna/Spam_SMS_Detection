{
 "cells": [
  {
   "cell_type": "code",
   "execution_count": 1,
   "id": "medical-opera",
   "metadata": {
    "execution": {
     "iopub.execute_input": "2021-04-02T17:34:15.545776Z",
     "iopub.status.busy": "2021-04-02T17:34:15.545142Z",
     "iopub.status.idle": "2021-04-02T17:34:15.547553Z",
     "shell.execute_reply": "2021-04-02T17:34:15.548134Z"
    },
    "papermill": {
     "duration": 0.035087,
     "end_time": "2021-04-02T17:34:15.548407",
     "exception": false,
     "start_time": "2021-04-02T17:34:15.513320",
     "status": "completed"
    },
    "tags": []
   },
   "outputs": [],
   "source": [
    "# !pip install seaborn\n",
    "# !pip install sklearn\n",
    "# !pip install --user scikit-learn\n",
    "# !pip install matplotlib\n",
    "# !pip install nltk"
   ]
  },
  {
   "cell_type": "code",
   "execution_count": 2,
   "id": "accredited-terrace",
   "metadata": {
    "execution": {
     "iopub.execute_input": "2021-04-02T17:34:15.605226Z",
     "iopub.status.busy": "2021-04-02T17:34:15.604567Z",
     "iopub.status.idle": "2021-04-02T17:34:17.782413Z",
     "shell.execute_reply": "2021-04-02T17:34:17.781748Z"
    },
    "papermill": {
     "duration": 2.207328,
     "end_time": "2021-04-02T17:34:17.782570",
     "exception": false,
     "start_time": "2021-04-02T17:34:15.575242",
     "status": "completed"
    },
    "tags": []
   },
   "outputs": [],
   "source": [
    "import pandas as pd\n",
    "import numpy as np\n",
    "import string\n",
    "import seaborn as sns\n",
    "import matplotlib.pyplot as plt\n",
    "from nltk.corpus import stopwords\n",
    "from sklearn.feature_extraction.text import CountVectorizer\n",
    "from sklearn.feature_extraction.text import TfidfTransformer\n",
    "from sklearn.model_selection import train_test_split\n",
    "from sklearn.svm import SVC\n",
    "from sklearn.naive_bayes import GaussianNB\n",
    "from sklearn.naive_bayes import MultinomialNB\n",
    "from collections import Counter\n",
    "from sklearn.metrics import classification_report,confusion_matrix\n",
    "from sklearn.metrics import accuracy_score, precision_score, recall_score, f1_score\n",
    "from sklearn.feature_extraction.text import CountVectorizer\n",
    "from sklearn.metrics import classification_report\n",
    "from sklearn.model_selection import GridSearchCV\n",
    "%matplotlib inline"
   ]
  },
  {
   "cell_type": "code",
   "execution_count": 3,
   "id": "swiss-complex",
   "metadata": {
    "execution": {
     "iopub.execute_input": "2021-04-02T17:34:17.845962Z",
     "iopub.status.busy": "2021-04-02T17:34:17.845263Z",
     "iopub.status.idle": "2021-04-02T17:34:17.921524Z",
     "shell.execute_reply": "2021-04-02T17:34:17.920942Z"
    },
    "papermill": {
     "duration": 0.11259,
     "end_time": "2021-04-02T17:34:17.921693",
     "exception": false,
     "start_time": "2021-04-02T17:34:17.809103",
     "status": "completed"
    },
    "tags": []
   },
   "outputs": [
    {
     "data": {
      "text/html": [
       "<div>\n",
       "<style scoped>\n",
       "    .dataframe tbody tr th:only-of-type {\n",
       "        vertical-align: middle;\n",
       "    }\n",
       "\n",
       "    .dataframe tbody tr th {\n",
       "        vertical-align: top;\n",
       "    }\n",
       "\n",
       "    .dataframe thead th {\n",
       "        text-align: right;\n",
       "    }\n",
       "</style>\n",
       "<table border=\"1\" class=\"dataframe\">\n",
       "  <thead>\n",
       "    <tr style=\"text-align: right;\">\n",
       "      <th></th>\n",
       "      <th>v1</th>\n",
       "      <th>v2</th>\n",
       "      <th>Unnamed: 2</th>\n",
       "      <th>Unnamed: 3</th>\n",
       "      <th>Unnamed: 4</th>\n",
       "    </tr>\n",
       "  </thead>\n",
       "  <tbody>\n",
       "    <tr>\n",
       "      <th>0</th>\n",
       "      <td>ham</td>\n",
       "      <td>Go until jurong point, crazy.. Available only ...</td>\n",
       "      <td>NaN</td>\n",
       "      <td>NaN</td>\n",
       "      <td>NaN</td>\n",
       "    </tr>\n",
       "    <tr>\n",
       "      <th>1</th>\n",
       "      <td>ham</td>\n",
       "      <td>Ok lar... Joking wif u oni...</td>\n",
       "      <td>NaN</td>\n",
       "      <td>NaN</td>\n",
       "      <td>NaN</td>\n",
       "    </tr>\n",
       "    <tr>\n",
       "      <th>2</th>\n",
       "      <td>spam</td>\n",
       "      <td>Free entry in 2 a wkly comp to win FA Cup fina...</td>\n",
       "      <td>NaN</td>\n",
       "      <td>NaN</td>\n",
       "      <td>NaN</td>\n",
       "    </tr>\n",
       "    <tr>\n",
       "      <th>3</th>\n",
       "      <td>ham</td>\n",
       "      <td>U dun say so early hor... U c already then say...</td>\n",
       "      <td>NaN</td>\n",
       "      <td>NaN</td>\n",
       "      <td>NaN</td>\n",
       "    </tr>\n",
       "    <tr>\n",
       "      <th>4</th>\n",
       "      <td>ham</td>\n",
       "      <td>Nah I don't think he goes to usf, he lives aro...</td>\n",
       "      <td>NaN</td>\n",
       "      <td>NaN</td>\n",
       "      <td>NaN</td>\n",
       "    </tr>\n",
       "  </tbody>\n",
       "</table>\n",
       "</div>"
      ],
      "text/plain": [
       "     v1                                                 v2 Unnamed: 2  \\\n",
       "0   ham  Go until jurong point, crazy.. Available only ...        NaN   \n",
       "1   ham                      Ok lar... Joking wif u oni...        NaN   \n",
       "2  spam  Free entry in 2 a wkly comp to win FA Cup fina...        NaN   \n",
       "3   ham  U dun say so early hor... U c already then say...        NaN   \n",
       "4   ham  Nah I don't think he goes to usf, he lives aro...        NaN   \n",
       "\n",
       "  Unnamed: 3 Unnamed: 4  \n",
       "0        NaN        NaN  \n",
       "1        NaN        NaN  \n",
       "2        NaN        NaN  \n",
       "3        NaN        NaN  \n",
       "4        NaN        NaN  "
      ]
     },
     "execution_count": 3,
     "metadata": {},
     "output_type": "execute_result"
    }
   ],
   "source": [
    "data = pd.read_csv('../input/sms-spam-collection-dataset/spam.csv')\n",
    "data.head()"
   ]
  },
  {
   "cell_type": "code",
   "execution_count": 4,
   "id": "narrow-attitude",
   "metadata": {
    "execution": {
     "iopub.execute_input": "2021-04-02T17:34:17.984478Z",
     "iopub.status.busy": "2021-04-02T17:34:17.983415Z",
     "iopub.status.idle": "2021-04-02T17:34:17.988481Z",
     "shell.execute_reply": "2021-04-02T17:34:17.989045Z"
    },
    "papermill": {
     "duration": 0.038517,
     "end_time": "2021-04-02T17:34:17.989243",
     "exception": false,
     "start_time": "2021-04-02T17:34:17.950726",
     "status": "completed"
    },
    "tags": []
   },
   "outputs": [
    {
     "data": {
      "text/plain": [
       "(5572, 5)"
      ]
     },
     "execution_count": 4,
     "metadata": {},
     "output_type": "execute_result"
    }
   ],
   "source": [
    "data.shape"
   ]
  },
  {
   "cell_type": "code",
   "execution_count": 5,
   "id": "electoral-douglas",
   "metadata": {
    "execution": {
     "iopub.execute_input": "2021-04-02T17:34:18.055890Z",
     "iopub.status.busy": "2021-04-02T17:34:18.055114Z",
     "iopub.status.idle": "2021-04-02T17:34:18.058598Z",
     "shell.execute_reply": "2021-04-02T17:34:18.057945Z"
    },
    "papermill": {
     "duration": 0.040713,
     "end_time": "2021-04-02T17:34:18.058750",
     "exception": false,
     "start_time": "2021-04-02T17:34:18.018037",
     "status": "completed"
    },
    "tags": []
   },
   "outputs": [],
   "source": [
    "data.drop([\"Unnamed: 2\",\"Unnamed: 3\",\"Unnamed: 4\"],axis=1,inplace=True)"
   ]
  },
  {
   "cell_type": "code",
   "execution_count": 6,
   "id": "negative-fraud",
   "metadata": {
    "execution": {
     "iopub.execute_input": "2021-04-02T17:34:18.128972Z",
     "iopub.status.busy": "2021-04-02T17:34:18.127919Z",
     "iopub.status.idle": "2021-04-02T17:34:18.132823Z",
     "shell.execute_reply": "2021-04-02T17:34:18.133420Z"
    },
    "papermill": {
     "duration": 0.045688,
     "end_time": "2021-04-02T17:34:18.133633",
     "exception": false,
     "start_time": "2021-04-02T17:34:18.087945",
     "status": "completed"
    },
    "tags": []
   },
   "outputs": [
    {
     "data": {
      "text/html": [
       "<div>\n",
       "<style scoped>\n",
       "    .dataframe tbody tr th:only-of-type {\n",
       "        vertical-align: middle;\n",
       "    }\n",
       "\n",
       "    .dataframe tbody tr th {\n",
       "        vertical-align: top;\n",
       "    }\n",
       "\n",
       "    .dataframe thead th {\n",
       "        text-align: right;\n",
       "    }\n",
       "</style>\n",
       "<table border=\"1\" class=\"dataframe\">\n",
       "  <thead>\n",
       "    <tr style=\"text-align: right;\">\n",
       "      <th></th>\n",
       "      <th>v1</th>\n",
       "      <th>v2</th>\n",
       "    </tr>\n",
       "  </thead>\n",
       "  <tbody>\n",
       "    <tr>\n",
       "      <th>0</th>\n",
       "      <td>ham</td>\n",
       "      <td>Go until jurong point, crazy.. Available only ...</td>\n",
       "    </tr>\n",
       "    <tr>\n",
       "      <th>1</th>\n",
       "      <td>ham</td>\n",
       "      <td>Ok lar... Joking wif u oni...</td>\n",
       "    </tr>\n",
       "    <tr>\n",
       "      <th>2</th>\n",
       "      <td>spam</td>\n",
       "      <td>Free entry in 2 a wkly comp to win FA Cup fina...</td>\n",
       "    </tr>\n",
       "    <tr>\n",
       "      <th>3</th>\n",
       "      <td>ham</td>\n",
       "      <td>U dun say so early hor... U c already then say...</td>\n",
       "    </tr>\n",
       "    <tr>\n",
       "      <th>4</th>\n",
       "      <td>ham</td>\n",
       "      <td>Nah I don't think he goes to usf, he lives aro...</td>\n",
       "    </tr>\n",
       "  </tbody>\n",
       "</table>\n",
       "</div>"
      ],
      "text/plain": [
       "     v1                                                 v2\n",
       "0   ham  Go until jurong point, crazy.. Available only ...\n",
       "1   ham                      Ok lar... Joking wif u oni...\n",
       "2  spam  Free entry in 2 a wkly comp to win FA Cup fina...\n",
       "3   ham  U dun say so early hor... U c already then say...\n",
       "4   ham  Nah I don't think he goes to usf, he lives aro..."
      ]
     },
     "execution_count": 6,
     "metadata": {},
     "output_type": "execute_result"
    }
   ],
   "source": [
    "data.head()"
   ]
  },
  {
   "cell_type": "code",
   "execution_count": 7,
   "id": "peaceful-skiing",
   "metadata": {
    "execution": {
     "iopub.execute_input": "2021-04-02T17:34:18.199570Z",
     "iopub.status.busy": "2021-04-02T17:34:18.198650Z",
     "iopub.status.idle": "2021-04-02T17:34:18.202811Z",
     "shell.execute_reply": "2021-04-02T17:34:18.202145Z"
    },
    "papermill": {
     "duration": 0.038618,
     "end_time": "2021-04-02T17:34:18.202957",
     "exception": false,
     "start_time": "2021-04-02T17:34:18.164339",
     "status": "completed"
    },
    "tags": []
   },
   "outputs": [],
   "source": [
    "data.columns = [\"class\",\"message\"]"
   ]
  },
  {
   "cell_type": "code",
   "execution_count": 8,
   "id": "fantastic-radius",
   "metadata": {
    "execution": {
     "iopub.execute_input": "2021-04-02T17:34:18.270499Z",
     "iopub.status.busy": "2021-04-02T17:34:18.269845Z",
     "iopub.status.idle": "2021-04-02T17:34:18.273905Z",
     "shell.execute_reply": "2021-04-02T17:34:18.273320Z"
    },
    "papermill": {
     "duration": 0.04175,
     "end_time": "2021-04-02T17:34:18.274055",
     "exception": false,
     "start_time": "2021-04-02T17:34:18.232305",
     "status": "completed"
    },
    "tags": []
   },
   "outputs": [
    {
     "data": {
      "text/html": [
       "<div>\n",
       "<style scoped>\n",
       "    .dataframe tbody tr th:only-of-type {\n",
       "        vertical-align: middle;\n",
       "    }\n",
       "\n",
       "    .dataframe tbody tr th {\n",
       "        vertical-align: top;\n",
       "    }\n",
       "\n",
       "    .dataframe thead th {\n",
       "        text-align: right;\n",
       "    }\n",
       "</style>\n",
       "<table border=\"1\" class=\"dataframe\">\n",
       "  <thead>\n",
       "    <tr style=\"text-align: right;\">\n",
       "      <th></th>\n",
       "      <th>class</th>\n",
       "      <th>message</th>\n",
       "    </tr>\n",
       "  </thead>\n",
       "  <tbody>\n",
       "    <tr>\n",
       "      <th>0</th>\n",
       "      <td>ham</td>\n",
       "      <td>Go until jurong point, crazy.. Available only ...</td>\n",
       "    </tr>\n",
       "    <tr>\n",
       "      <th>1</th>\n",
       "      <td>ham</td>\n",
       "      <td>Ok lar... Joking wif u oni...</td>\n",
       "    </tr>\n",
       "    <tr>\n",
       "      <th>2</th>\n",
       "      <td>spam</td>\n",
       "      <td>Free entry in 2 a wkly comp to win FA Cup fina...</td>\n",
       "    </tr>\n",
       "    <tr>\n",
       "      <th>3</th>\n",
       "      <td>ham</td>\n",
       "      <td>U dun say so early hor... U c already then say...</td>\n",
       "    </tr>\n",
       "    <tr>\n",
       "      <th>4</th>\n",
       "      <td>ham</td>\n",
       "      <td>Nah I don't think he goes to usf, he lives aro...</td>\n",
       "    </tr>\n",
       "  </tbody>\n",
       "</table>\n",
       "</div>"
      ],
      "text/plain": [
       "  class                                            message\n",
       "0   ham  Go until jurong point, crazy.. Available only ...\n",
       "1   ham                      Ok lar... Joking wif u oni...\n",
       "2  spam  Free entry in 2 a wkly comp to win FA Cup fina...\n",
       "3   ham  U dun say so early hor... U c already then say...\n",
       "4   ham  Nah I don't think he goes to usf, he lives aro..."
      ]
     },
     "execution_count": 8,
     "metadata": {},
     "output_type": "execute_result"
    }
   ],
   "source": [
    "data.head()"
   ]
  },
  {
   "cell_type": "code",
   "execution_count": 9,
   "id": "declared-oklahoma",
   "metadata": {
    "execution": {
     "iopub.execute_input": "2021-04-02T17:34:18.339811Z",
     "iopub.status.busy": "2021-04-02T17:34:18.339119Z",
     "iopub.status.idle": "2021-04-02T17:34:18.345219Z",
     "shell.execute_reply": "2021-04-02T17:34:18.345878Z"
    },
    "papermill": {
     "duration": 0.042571,
     "end_time": "2021-04-02T17:34:18.346080",
     "exception": false,
     "start_time": "2021-04-02T17:34:18.303509",
     "status": "completed"
    },
    "tags": []
   },
   "outputs": [],
   "source": [
    "data['length'] = [len(d) for d in data.message]"
   ]
  },
  {
   "cell_type": "code",
   "execution_count": 10,
   "id": "colonial-revolution",
   "metadata": {
    "execution": {
     "iopub.execute_input": "2021-04-02T17:34:18.408995Z",
     "iopub.status.busy": "2021-04-02T17:34:18.408335Z",
     "iopub.status.idle": "2021-04-02T17:34:18.419336Z",
     "shell.execute_reply": "2021-04-02T17:34:18.418292Z"
    },
    "papermill": {
     "duration": 0.043481,
     "end_time": "2021-04-02T17:34:18.419583",
     "exception": false,
     "start_time": "2021-04-02T17:34:18.376102",
     "status": "completed"
    },
    "tags": []
   },
   "outputs": [
    {
     "data": {
      "text/html": [
       "<div>\n",
       "<style scoped>\n",
       "    .dataframe tbody tr th:only-of-type {\n",
       "        vertical-align: middle;\n",
       "    }\n",
       "\n",
       "    .dataframe tbody tr th {\n",
       "        vertical-align: top;\n",
       "    }\n",
       "\n",
       "    .dataframe thead th {\n",
       "        text-align: right;\n",
       "    }\n",
       "</style>\n",
       "<table border=\"1\" class=\"dataframe\">\n",
       "  <thead>\n",
       "    <tr style=\"text-align: right;\">\n",
       "      <th></th>\n",
       "      <th>class</th>\n",
       "      <th>message</th>\n",
       "      <th>length</th>\n",
       "    </tr>\n",
       "  </thead>\n",
       "  <tbody>\n",
       "    <tr>\n",
       "      <th>0</th>\n",
       "      <td>ham</td>\n",
       "      <td>Go until jurong point, crazy.. Available only ...</td>\n",
       "      <td>111</td>\n",
       "    </tr>\n",
       "    <tr>\n",
       "      <th>1</th>\n",
       "      <td>ham</td>\n",
       "      <td>Ok lar... Joking wif u oni...</td>\n",
       "      <td>29</td>\n",
       "    </tr>\n",
       "    <tr>\n",
       "      <th>2</th>\n",
       "      <td>spam</td>\n",
       "      <td>Free entry in 2 a wkly comp to win FA Cup fina...</td>\n",
       "      <td>155</td>\n",
       "    </tr>\n",
       "    <tr>\n",
       "      <th>3</th>\n",
       "      <td>ham</td>\n",
       "      <td>U dun say so early hor... U c already then say...</td>\n",
       "      <td>49</td>\n",
       "    </tr>\n",
       "    <tr>\n",
       "      <th>4</th>\n",
       "      <td>ham</td>\n",
       "      <td>Nah I don't think he goes to usf, he lives aro...</td>\n",
       "      <td>61</td>\n",
       "    </tr>\n",
       "  </tbody>\n",
       "</table>\n",
       "</div>"
      ],
      "text/plain": [
       "  class                                            message  length\n",
       "0   ham  Go until jurong point, crazy.. Available only ...     111\n",
       "1   ham                      Ok lar... Joking wif u oni...      29\n",
       "2  spam  Free entry in 2 a wkly comp to win FA Cup fina...     155\n",
       "3   ham  U dun say so early hor... U c already then say...      49\n",
       "4   ham  Nah I don't think he goes to usf, he lives aro...      61"
      ]
     },
     "execution_count": 10,
     "metadata": {},
     "output_type": "execute_result"
    }
   ],
   "source": [
    "data.head()"
   ]
  },
  {
   "cell_type": "code",
   "execution_count": 11,
   "id": "headed-firmware",
   "metadata": {
    "execution": {
     "iopub.execute_input": "2021-04-02T17:34:18.483104Z",
     "iopub.status.busy": "2021-04-02T17:34:18.482470Z",
     "iopub.status.idle": "2021-04-02T17:34:18.528324Z",
     "shell.execute_reply": "2021-04-02T17:34:18.527779Z"
    },
    "papermill": {
     "duration": 0.078879,
     "end_time": "2021-04-02T17:34:18.528466",
     "exception": false,
     "start_time": "2021-04-02T17:34:18.449587",
     "status": "completed"
    },
    "tags": []
   },
   "outputs": [
    {
     "data": {
      "text/html": [
       "<div>\n",
       "<style scoped>\n",
       "    .dataframe tbody tr th:only-of-type {\n",
       "        vertical-align: middle;\n",
       "    }\n",
       "\n",
       "    .dataframe tbody tr th {\n",
       "        vertical-align: top;\n",
       "    }\n",
       "\n",
       "    .dataframe thead tr th {\n",
       "        text-align: left;\n",
       "    }\n",
       "\n",
       "    .dataframe thead tr:last-of-type th {\n",
       "        text-align: right;\n",
       "    }\n",
       "</style>\n",
       "<table border=\"1\" class=\"dataframe\">\n",
       "  <thead>\n",
       "    <tr>\n",
       "      <th></th>\n",
       "      <th colspan=\"8\" halign=\"left\">length</th>\n",
       "    </tr>\n",
       "    <tr>\n",
       "      <th></th>\n",
       "      <th>count</th>\n",
       "      <th>mean</th>\n",
       "      <th>std</th>\n",
       "      <th>min</th>\n",
       "      <th>25%</th>\n",
       "      <th>50%</th>\n",
       "      <th>75%</th>\n",
       "      <th>max</th>\n",
       "    </tr>\n",
       "    <tr>\n",
       "      <th>class</th>\n",
       "      <th></th>\n",
       "      <th></th>\n",
       "      <th></th>\n",
       "      <th></th>\n",
       "      <th></th>\n",
       "      <th></th>\n",
       "      <th></th>\n",
       "      <th></th>\n",
       "    </tr>\n",
       "  </thead>\n",
       "  <tbody>\n",
       "    <tr>\n",
       "      <th>ham</th>\n",
       "      <td>4825.0</td>\n",
       "      <td>71.021347</td>\n",
       "      <td>58.014768</td>\n",
       "      <td>2.0</td>\n",
       "      <td>33.0</td>\n",
       "      <td>52.0</td>\n",
       "      <td>92.0</td>\n",
       "      <td>910.0</td>\n",
       "    </tr>\n",
       "    <tr>\n",
       "      <th>spam</th>\n",
       "      <td>747.0</td>\n",
       "      <td>138.429719</td>\n",
       "      <td>29.049857</td>\n",
       "      <td>13.0</td>\n",
       "      <td>132.0</td>\n",
       "      <td>149.0</td>\n",
       "      <td>157.0</td>\n",
       "      <td>223.0</td>\n",
       "    </tr>\n",
       "  </tbody>\n",
       "</table>\n",
       "</div>"
      ],
      "text/plain": [
       "       length                                                         \n",
       "        count        mean        std   min    25%    50%    75%    max\n",
       "class                                                                 \n",
       "ham    4825.0   71.021347  58.014768   2.0   33.0   52.0   92.0  910.0\n",
       "spam    747.0  138.429719  29.049857  13.0  132.0  149.0  157.0  223.0"
      ]
     },
     "execution_count": 11,
     "metadata": {},
     "output_type": "execute_result"
    }
   ],
   "source": [
    "data.groupby('class').describe()"
   ]
  },
  {
   "cell_type": "code",
   "execution_count": 12,
   "id": "complex-sport",
   "metadata": {
    "execution": {
     "iopub.execute_input": "2021-04-02T17:34:18.601021Z",
     "iopub.status.busy": "2021-04-02T17:34:18.598036Z",
     "iopub.status.idle": "2021-04-02T17:34:18.746359Z",
     "shell.execute_reply": "2021-04-02T17:34:18.745663Z"
    },
    "papermill": {
     "duration": 0.187546,
     "end_time": "2021-04-02T17:34:18.746504",
     "exception": false,
     "start_time": "2021-04-02T17:34:18.558958",
     "status": "completed"
    },
    "tags": []
   },
   "outputs": [
    {
     "data": {
      "text/plain": [
       "<AxesSubplot:xlabel='class', ylabel='count'>"
      ]
     },
     "execution_count": 12,
     "metadata": {},
     "output_type": "execute_result"
    },
    {
     "data": {
      "image/png": "[encoded data removed]",
      "text/plain": [
       "<Figure size 432x288 with 1 Axes>"
      ]
     },
     "metadata": {
      "needs_background": "light"
     },
     "output_type": "display_data"
    }
   ],
   "source": [
    "sns.countplot(x=data['class'])"
   ]
  },
  {
   "cell_type": "code",
   "execution_count": 13,
   "id": "streaming-relay",
   "metadata": {
    "execution": {
     "iopub.execute_input": "2021-04-02T17:34:18.819619Z",
     "iopub.status.busy": "2021-04-02T17:34:18.818662Z",
     "iopub.status.idle": "2021-04-02T17:34:19.069513Z",
     "shell.execute_reply": "2021-04-02T17:34:19.070078Z"
    },
    "papermill": {
     "duration": 0.291825,
     "end_time": "2021-04-02T17:34:19.070266",
     "exception": false,
     "start_time": "2021-04-02T17:34:18.778441",
     "status": "completed"
    },
    "tags": []
   },
   "outputs": [
    {
     "data": {
      "text/plain": [
       "<AxesSubplot:xlabel='class', ylabel='length'>"
      ]
     },
     "execution_count": 13,
     "metadata": {},
     "output_type": "execute_result"
    },
    {
     "data": {
      "image/png": "[encoded data removed]",
      "text/plain": [
       "<Figure size 432x288 with 1 Axes>"
      ]
     },
     "metadata": {
      "needs_background": "light"
     },
     "output_type": "display_data"
    }
   ],
   "source": [
    "sns.barplot(x=data[\"class\"],y=data[\"length\"])"
   ]
  },
  {
   "cell_type": "code",
   "execution_count": 14,
   "id": "dimensional-climate",
   "metadata": {
    "execution": {
     "iopub.execute_input": "2021-04-02T17:34:19.144381Z",
     "iopub.status.busy": "2021-04-02T17:34:19.143675Z",
     "iopub.status.idle": "2021-04-02T17:34:19.147331Z",
     "shell.execute_reply": "2021-04-02T17:34:19.146792Z"
    },
    "papermill": {
     "duration": 0.043487,
     "end_time": "2021-04-02T17:34:19.147481",
     "exception": false,
     "start_time": "2021-04-02T17:34:19.103994",
     "status": "completed"
    },
    "tags": []
   },
   "outputs": [],
   "source": [
    "data.drop([\"length\"],axis=1,inplace=True)"
   ]
  },
  {
   "cell_type": "code",
   "execution_count": 15,
   "id": "manual-usage",
   "metadata": {
    "execution": {
     "iopub.execute_input": "2021-04-02T17:34:19.224646Z",
     "iopub.status.busy": "2021-04-02T17:34:19.223630Z",
     "iopub.status.idle": "2021-04-02T17:34:19.228599Z",
     "shell.execute_reply": "2021-04-02T17:34:19.228071Z"
    },
    "papermill": {
     "duration": 0.04807,
     "end_time": "2021-04-02T17:34:19.228743",
     "exception": false,
     "start_time": "2021-04-02T17:34:19.180673",
     "status": "completed"
    },
    "tags": []
   },
   "outputs": [
    {
     "data": {
      "text/html": [
       "<div>\n",
       "<style scoped>\n",
       "    .dataframe tbody tr th:only-of-type {\n",
       "        vertical-align: middle;\n",
       "    }\n",
       "\n",
       "    .dataframe tbody tr th {\n",
       "        vertical-align: top;\n",
       "    }\n",
       "\n",
       "    .dataframe thead th {\n",
       "        text-align: right;\n",
       "    }\n",
       "</style>\n",
       "<table border=\"1\" class=\"dataframe\">\n",
       "  <thead>\n",
       "    <tr style=\"text-align: right;\">\n",
       "      <th></th>\n",
       "      <th>class</th>\n",
       "      <th>message</th>\n",
       "    </tr>\n",
       "  </thead>\n",
       "  <tbody>\n",
       "    <tr>\n",
       "      <th>0</th>\n",
       "      <td>ham</td>\n",
       "      <td>Go until jurong point, crazy.. Available only ...</td>\n",
       "    </tr>\n",
       "    <tr>\n",
       "      <th>1</th>\n",
       "      <td>ham</td>\n",
       "      <td>Ok lar... Joking wif u oni...</td>\n",
       "    </tr>\n",
       "    <tr>\n",
       "      <th>2</th>\n",
       "      <td>spam</td>\n",
       "      <td>Free entry in 2 a wkly comp to win FA Cup fina...</td>\n",
       "    </tr>\n",
       "    <tr>\n",
       "      <th>3</th>\n",
       "      <td>ham</td>\n",
       "      <td>U dun say so early hor... U c already then say...</td>\n",
       "    </tr>\n",
       "    <tr>\n",
       "      <th>4</th>\n",
       "      <td>ham</td>\n",
       "      <td>Nah I don't think he goes to usf, he lives aro...</td>\n",
       "    </tr>\n",
       "  </tbody>\n",
       "</table>\n",
       "</div>"
      ],
      "text/plain": [
       "  class                                            message\n",
       "0   ham  Go until jurong point, crazy.. Available only ...\n",
       "1   ham                      Ok lar... Joking wif u oni...\n",
       "2  spam  Free entry in 2 a wkly comp to win FA Cup fina...\n",
       "3   ham  U dun say so early hor... U c already then say...\n",
       "4   ham  Nah I don't think he goes to usf, he lives aro..."
      ]
     },
     "execution_count": 15,
     "metadata": {},
     "output_type": "execute_result"
    }
   ],
   "source": [
    "data.head()"
   ]
  },
  {
   "cell_type": "code",
   "execution_count": 16,
   "id": "average-broadway",
   "metadata": {
    "execution": {
     "iopub.execute_input": "2021-04-02T17:34:19.305210Z",
     "iopub.status.busy": "2021-04-02T17:34:19.304437Z",
     "iopub.status.idle": "2021-04-02T17:34:19.307399Z",
     "shell.execute_reply": "2021-04-02T17:34:19.306835Z"
    },
    "papermill": {
     "duration": 0.044429,
     "end_time": "2021-04-02T17:34:19.307562",
     "exception": false,
     "start_time": "2021-04-02T17:34:19.263133",
     "status": "completed"
    },
    "tags": []
   },
   "outputs": [],
   "source": [
    "def transform_message(message):\n",
    "    message_not_punc = [] # Message without punctuation\n",
    "    i = 0\n",
    "    for punctuation in message:\n",
    "        if punctuation not in string.punctuation:\n",
    "            message_not_punc.append(punctuation)\n",
    "    # Join words again to form the string.\n",
    "    message_not_punc = ''.join(message_not_punc) \n",
    "\n",
    "    # Remove any stopwords for message_not_punc, but first we should     \n",
    "    # to transform this into the list.\n",
    "    message_clean = list(message_not_punc.split(\" \"))\n",
    "    while i <= len(message_clean):\n",
    "        for mess in message_clean:\n",
    "            if mess.lower()  in stopwords.words('english'):\n",
    "                message_clean.remove(mess)\n",
    "        i =i +1\n",
    "    return  message_clean"
   ]
  },
  {
   "cell_type": "code",
   "execution_count": 17,
   "id": "spanish-light",
   "metadata": {
    "execution": {
     "iopub.execute_input": "2021-04-02T17:34:19.382656Z",
     "iopub.status.busy": "2021-04-02T17:34:19.381949Z",
     "iopub.status.idle": "2021-04-02T17:36:10.376093Z",
     "shell.execute_reply": "2021-04-02T17:36:10.376641Z"
    },
    "papermill": {
     "duration": 111.035257,
     "end_time": "2021-04-02T17:36:10.376845",
     "exception": false,
     "start_time": "2021-04-02T17:34:19.341588",
     "status": "completed"
    },
    "tags": []
   },
   "outputs": [
    {
     "data": {
      "text/plain": [
       "0       [Go, jurong, point, crazy, Available, bugis, n...\n",
       "1                          [Ok, lar, Joking, wif, u, oni]\n",
       "2       [Free, entry, 2, wkly, comp, win, FA, Cup, fin...\n",
       "3           [U, dun, say, early, hor, U, c, already, say]\n",
       "4       [Nah, dont, think, goes, usf, lives, around, t...\n",
       "                              ...                        \n",
       "5567    [2nd, time, tried, 2, contact, u, U, �750, Pou...\n",
       "5568                   [�, b, going, esplanade, fr, home]\n",
       "5569                   [Pity, , mood, Soany, suggestions]\n",
       "5570    [guy, bitching, acted, like, id, interested, b...\n",
       "5571                                   [Rofl, true, name]\n",
       "Name: message, Length: 5572, dtype: object"
      ]
     },
     "execution_count": 17,
     "metadata": {},
     "output_type": "execute_result"
    }
   ],
   "source": [
    "data['message'].apply(transform_message)"
   ]
  },
  {
   "cell_type": "code",
   "execution_count": 18,
   "id": "quality-approval",
   "metadata": {
    "execution": {
     "iopub.execute_input": "2021-04-02T17:36:10.448790Z",
     "iopub.status.busy": "2021-04-02T17:36:10.447833Z",
     "iopub.status.idle": "2021-04-02T17:36:10.452088Z",
     "shell.execute_reply": "2021-04-02T17:36:10.452574Z"
    },
    "papermill": {
     "duration": 0.041958,
     "end_time": "2021-04-02T17:36:10.452750",
     "exception": false,
     "start_time": "2021-04-02T17:36:10.410792",
     "status": "completed"
    },
    "tags": []
   },
   "outputs": [],
   "source": [
    "vectorization = CountVectorizer(analyzer=transform_message)"
   ]
  },
  {
   "cell_type": "code",
   "execution_count": 19,
   "id": "incorporate-providence",
   "metadata": {
    "execution": {
     "iopub.execute_input": "2021-04-02T17:36:10.525595Z",
     "iopub.status.busy": "2021-04-02T17:36:10.524671Z",
     "iopub.status.idle": "2021-04-02T17:38:01.998757Z",
     "shell.execute_reply": "2021-04-02T17:38:01.999344Z"
    },
    "papermill": {
     "duration": 111.511854,
     "end_time": "2021-04-02T17:38:01.999612",
     "exception": false,
     "start_time": "2021-04-02T17:36:10.487758",
     "status": "completed"
    },
    "tags": []
   },
   "outputs": [],
   "source": [
    "X = vectorization.fit(data[\"message\"])"
   ]
  },
  {
   "cell_type": "code",
   "execution_count": 20,
   "id": "numeric-northwest",
   "metadata": {
    "execution": {
     "iopub.execute_input": "2021-04-02T17:38:02.089996Z",
     "iopub.status.busy": "2021-04-02T17:38:02.089172Z",
     "iopub.status.idle": "2021-04-02T17:39:54.438965Z",
     "shell.execute_reply": "2021-04-02T17:39:54.437851Z"
    },
    "papermill": {
     "duration": 112.393471,
     "end_time": "2021-04-02T17:39:54.439223",
     "exception": false,
     "start_time": "2021-04-02T17:38:02.045752",
     "status": "completed"
    },
    "tags": []
   },
   "outputs": [],
   "source": [
    "X_transform = X.transform(data[\"message\"])"
   ]
  },
  {
   "cell_type": "code",
   "execution_count": 21,
   "id": "occupational-mystery",
   "metadata": {
    "execution": {
     "iopub.execute_input": "2021-04-02T17:39:54.513929Z",
     "iopub.status.busy": "2021-04-02T17:39:54.513215Z",
     "iopub.status.idle": "2021-04-02T17:39:54.521270Z",
     "shell.execute_reply": "2021-04-02T17:39:54.521825Z"
    },
    "papermill": {
     "duration": 0.046729,
     "end_time": "2021-04-02T17:39:54.522034",
     "exception": false,
     "start_time": "2021-04-02T17:39:54.475305",
     "status": "completed"
    },
    "tags": []
   },
   "outputs": [
    {
     "name": "stdout",
     "output_type": "stream",
     "text": [
      "  (0, 1098)\t1\n",
      "  (0, 1463)\t1\n",
      "  (0, 2029)\t1\n",
      "  (0, 4576)\t1\n",
      "  (0, 5137)\t1\n",
      "  (0, 5138)\t1\n",
      "  (0, 5687)\t1\n",
      "  (0, 6133)\t1\n",
      "  (0, 6817)\t1\n",
      "  (0, 6848)\t1\n",
      "  (0, 7458)\t1\n",
      "  (0, 7569)\t1\n",
      "  (0, 8233)\t1\n",
      "  (0, 8811)\t1\n",
      "  (0, 10848)\t1\n",
      "  (0, 11046)\t1\n",
      "  (1, 2409)\t1\n",
      "  (1, 3014)\t1\n",
      "  (1, 7602)\t1\n",
      "  (1, 8484)\t1\n",
      "  (1, 10584)\t1\n",
      "  (1, 10955)\t1\n",
      "  (2, 75)\t1\n",
      "  (2, 424)\t1\n",
      "  (2, 431)\t1\n",
      "  :\t:\n",
      "  (5568, 6793)\t1\n",
      "  (5568, 7067)\t1\n",
      "  (5568, 11238)\t1\n",
      "  (5569, 0)\t1\n",
      "  (5569, 3171)\t1\n",
      "  (5569, 3657)\t1\n",
      "  (5569, 8149)\t1\n",
      "  (5569, 10089)\t1\n",
      "  (5570, 4432)\t1\n",
      "  (5570, 4975)\t1\n",
      "  (5570, 5171)\t1\n",
      "  (5570, 6198)\t1\n",
      "  (5570, 6614)\t1\n",
      "  (5570, 6712)\t1\n",
      "  (5570, 6894)\t1\n",
      "  (5570, 7192)\t1\n",
      "  (5570, 7299)\t1\n",
      "  (5570, 7700)\t1\n",
      "  (5570, 8316)\t1\n",
      "  (5570, 9806)\t1\n",
      "  (5570, 10672)\t1\n",
      "  (5570, 10889)\t1\n",
      "  (5571, 3372)\t1\n",
      "  (5571, 8245)\t1\n",
      "  (5571, 10534)\t1\n"
     ]
    }
   ],
   "source": [
    "print(X_transform)"
   ]
  },
  {
   "cell_type": "code",
   "execution_count": 22,
   "id": "buried-cream",
   "metadata": {
    "execution": {
     "iopub.execute_input": "2021-04-02T17:39:54.599337Z",
     "iopub.status.busy": "2021-04-02T17:39:54.598579Z",
     "iopub.status.idle": "2021-04-02T17:39:54.604441Z",
     "shell.execute_reply": "2021-04-02T17:39:54.603862Z"
    },
    "papermill": {
     "duration": 0.045871,
     "end_time": "2021-04-02T17:39:54.604600",
     "exception": false,
     "start_time": "2021-04-02T17:39:54.558729",
     "status": "completed"
    },
    "tags": []
   },
   "outputs": [],
   "source": [
    "tfidf_transformer = TfidfTransformer().fit(X_transform)"
   ]
  },
  {
   "cell_type": "code",
   "execution_count": 23,
   "id": "chicken-albany",
   "metadata": {
    "execution": {
     "iopub.execute_input": "2021-04-02T17:39:54.679169Z",
     "iopub.status.busy": "2021-04-02T17:39:54.678415Z",
     "iopub.status.idle": "2021-04-02T17:39:54.692107Z",
     "shell.execute_reply": "2021-04-02T17:39:54.690783Z"
    },
    "papermill": {
     "duration": 0.052274,
     "end_time": "2021-04-02T17:39:54.692263",
     "exception": false,
     "start_time": "2021-04-02T17:39:54.639989",
     "status": "completed"
    },
    "tags": []
   },
   "outputs": [],
   "source": [
    "X_tfidf = tfidf_transformer.transform(X_transform)"
   ]
  },
  {
   "cell_type": "code",
   "execution_count": 24,
   "id": "offensive-graduation",
   "metadata": {
    "execution": {
     "iopub.execute_input": "2021-04-02T17:39:54.767805Z",
     "iopub.status.busy": "2021-04-02T17:39:54.767110Z",
     "iopub.status.idle": "2021-04-02T17:39:54.773512Z",
     "shell.execute_reply": "2021-04-02T17:39:54.772732Z"
    },
    "papermill": {
     "duration": 0.045805,
     "end_time": "2021-04-02T17:39:54.773694",
     "exception": false,
     "start_time": "2021-04-02T17:39:54.727889",
     "status": "completed"
    },
    "tags": []
   },
   "outputs": [
    {
     "name": "stdout",
     "output_type": "stream",
     "text": [
      "(5572, 11304)\n"
     ]
    }
   ],
   "source": [
    "print(X_tfidf.shape)"
   ]
  },
  {
   "cell_type": "code",
   "execution_count": 25,
   "id": "statistical-hebrew",
   "metadata": {
    "execution": {
     "iopub.execute_input": "2021-04-02T17:39:54.856893Z",
     "iopub.status.busy": "2021-04-02T17:39:54.856207Z",
     "iopub.status.idle": "2021-04-02T17:39:54.865305Z",
     "shell.execute_reply": "2021-04-02T17:39:54.865855Z"
    },
    "papermill": {
     "duration": 0.056135,
     "end_time": "2021-04-02T17:39:54.866052",
     "exception": false,
     "start_time": "2021-04-02T17:39:54.809917",
     "status": "completed"
    },
    "tags": []
   },
   "outputs": [],
   "source": [
    "X_train, X_test, y_train, y_test = train_test_split(data['message'], data['class'], test_size=0.3,random_state = 50, stratify=data['class'])  "
   ]
  },
  {
   "cell_type": "code",
   "execution_count": 26,
   "id": "lesbian-characteristic",
   "metadata": {
    "execution": {
     "iopub.execute_input": "2021-04-02T17:39:54.941674Z",
     "iopub.status.busy": "2021-04-02T17:39:54.940906Z",
     "iopub.status.idle": "2021-04-02T17:39:54.951294Z",
     "shell.execute_reply": "2021-04-02T17:39:54.950490Z"
    },
    "papermill": {
     "duration": 0.049289,
     "end_time": "2021-04-02T17:39:54.951461",
     "exception": false,
     "start_time": "2021-04-02T17:39:54.902172",
     "status": "completed"
    },
    "tags": []
   },
   "outputs": [
    {
     "data": {
      "text/plain": [
       "(357     Ur cash-balance is currently 500 pounds - to m...\n",
       " 4793          Sorry that was my uncle. I.ll keep in touch\n",
       " 2542                         Aiyo please �_ got time meh.\n",
       " 1695    Finish already... Yar they keep saying i mushy...\n",
       " 547                      Sorry that took so long, omw now\n",
       "                               ...                        \n",
       " 5170    I'm in school now n i'll be in da lab doing so...\n",
       " 1677             Lol where do u come up with these ideas?\n",
       " 3813                       Can. Dunno wat to get 4 her...\n",
       " 4061    Hi dear we saw dear. We both are happy. Where ...\n",
       " 198     Hi its Kate how is your evening? I hope i can ...\n",
       " Name: message, Length: 3900, dtype: object,\n",
       " 357     spam\n",
       " 4793     ham\n",
       " 2542     ham\n",
       " 1695     ham\n",
       " 547      ham\n",
       "         ... \n",
       " 5170     ham\n",
       " 1677     ham\n",
       " 3813     ham\n",
       " 4061     ham\n",
       " 198      ham\n",
       " Name: class, Length: 3900, dtype: object)"
      ]
     },
     "execution_count": 26,
     "metadata": {},
     "output_type": "execute_result"
    }
   ],
   "source": [
    "X_train,y_train"
   ]
  },
  {
   "cell_type": "code",
   "execution_count": 27,
   "id": "alpine-occupation",
   "metadata": {
    "execution": {
     "iopub.execute_input": "2021-04-02T17:39:55.029787Z",
     "iopub.status.busy": "2021-04-02T17:39:55.029132Z",
     "iopub.status.idle": "2021-04-02T17:39:55.033122Z",
     "shell.execute_reply": "2021-04-02T17:39:55.032511Z"
    },
    "papermill": {
     "duration": 0.045168,
     "end_time": "2021-04-02T17:39:55.033271",
     "exception": false,
     "start_time": "2021-04-02T17:39:54.988103",
     "status": "completed"
    },
    "tags": []
   },
   "outputs": [],
   "source": [
    "bow = CountVectorizer(stop_words='english')"
   ]
  },
  {
   "cell_type": "code",
   "execution_count": 28,
   "id": "packed-neighbor",
   "metadata": {
    "execution": {
     "iopub.execute_input": "2021-04-02T17:39:55.111827Z",
     "iopub.status.busy": "2021-04-02T17:39:55.111130Z",
     "iopub.status.idle": "2021-04-02T17:39:55.219404Z",
     "shell.execute_reply": "2021-04-02T17:39:55.219910Z"
    },
    "papermill": {
     "duration": 0.150259,
     "end_time": "2021-04-02T17:39:55.220103",
     "exception": false,
     "start_time": "2021-04-02T17:39:55.069844",
     "status": "completed"
    },
    "tags": []
   },
   "outputs": [
    {
     "data": {
      "text/plain": [
       "CountVectorizer(stop_words='english')"
      ]
     },
     "execution_count": 28,
     "metadata": {},
     "output_type": "execute_result"
    }
   ],
   "source": [
    "# Fit the bag of words on the training docs\n",
    "bow.fit(X_train)"
   ]
  },
  {
   "cell_type": "code",
   "execution_count": 29,
   "id": "parliamentary-smart",
   "metadata": {
    "execution": {
     "iopub.execute_input": "2021-04-02T17:39:55.338777Z",
     "iopub.status.busy": "2021-04-02T17:39:55.317901Z",
     "iopub.status.idle": "2021-04-02T17:39:55.419384Z",
     "shell.execute_reply": "2021-04-02T17:39:55.418793Z"
    },
    "papermill": {
     "duration": 0.162697,
     "end_time": "2021-04-02T17:39:55.419588",
     "exception": false,
     "start_time": "2021-04-02T17:39:55.256891",
     "status": "completed"
    },
    "tags": []
   },
   "outputs": [],
   "source": [
    "X_train = bow.transform(X_train)\n",
    "X_test = bow.transform(X_test)"
   ]
  },
  {
   "cell_type": "code",
   "execution_count": 30,
   "id": "abstract-bulletin",
   "metadata": {
    "execution": {
     "iopub.execute_input": "2021-04-02T17:39:55.500619Z",
     "iopub.status.busy": "2021-04-02T17:39:55.499884Z",
     "iopub.status.idle": "2021-04-02T17:39:55.504935Z",
     "shell.execute_reply": "2021-04-02T17:39:55.504257Z"
    },
    "papermill": {
     "duration": 0.0476,
     "end_time": "2021-04-02T17:39:55.505089",
     "exception": false,
     "start_time": "2021-04-02T17:39:55.457489",
     "status": "completed"
    },
    "tags": []
   },
   "outputs": [
    {
     "data": {
      "text/plain": [
       "(<3900x6843 sparse matrix of type '<class 'numpy.int64'>'\n",
       " \twith 30002 stored elements in Compressed Sparse Row format>,\n",
       " <1672x6843 sparse matrix of type '<class 'numpy.int64'>'\n",
       " \twith 11581 stored elements in Compressed Sparse Row format>)"
      ]
     },
     "execution_count": 30,
     "metadata": {},
     "output_type": "execute_result"
    }
   ],
   "source": [
    "X_train,X_test"
   ]
  },
  {
   "cell_type": "markdown",
   "id": "vocal-newport",
   "metadata": {
    "papermill": {
     "duration": 0.038865,
     "end_time": "2021-04-02T17:39:55.582157",
     "exception": false,
     "start_time": "2021-04-02T17:39:55.543292",
     "status": "completed"
    },
    "tags": []
   },
   "source": [
    "****Naive Bayes Classifier"
   ]
  },
  {
   "cell_type": "code",
   "execution_count": 31,
   "id": "smooth-guest",
   "metadata": {
    "execution": {
     "iopub.execute_input": "2021-04-02T17:39:55.661823Z",
     "iopub.status.busy": "2021-04-02T17:39:55.660965Z",
     "iopub.status.idle": "2021-04-02T17:39:55.685613Z",
     "shell.execute_reply": "2021-04-02T17:39:55.685047Z"
    },
    "papermill": {
     "duration": 0.065761,
     "end_time": "2021-04-02T17:39:55.685769",
     "exception": false,
     "start_time": "2021-04-02T17:39:55.620008",
     "status": "completed"
    },
    "tags": []
   },
   "outputs": [
    {
     "data": {
      "text/plain": [
       "MultinomialNB()"
      ]
     },
     "execution_count": 31,
     "metadata": {},
     "output_type": "execute_result"
    }
   ],
   "source": [
    "naive_bayes = MultinomialNB()\n",
    "naive_bayes.fit(X_train, y_train)"
   ]
  },
  {
   "cell_type": "code",
   "execution_count": 32,
   "id": "sporting-yield",
   "metadata": {
    "execution": {
     "iopub.execute_input": "2021-04-02T17:39:55.770401Z",
     "iopub.status.busy": "2021-04-02T17:39:55.769725Z",
     "iopub.status.idle": "2021-04-02T17:39:55.831875Z",
     "shell.execute_reply": "2021-04-02T17:39:55.832355Z"
    },
    "papermill": {
     "duration": 0.10743,
     "end_time": "2021-04-02T17:39:55.832565",
     "exception": false,
     "start_time": "2021-04-02T17:39:55.725135",
     "status": "completed"
    },
    "tags": []
   },
   "outputs": [
    {
     "name": "stdout",
     "output_type": "stream",
     "text": [
      "Accuracy : 0.983\n",
      "Precision : 0.967\n",
      "Recall : 0.906\n",
      "F1-Score : 0.935\n"
     ]
    }
   ],
   "source": [
    "print(f'Accuracy : {accuracy_score(y_test, naive_bayes.predict(X_test)):.3f}')\n",
    "print(f'Precision : {precision_score(y_test, naive_bayes.predict(X_test), pos_label=\"spam\"):.3f}')\n",
    "print(f'Recall : {recall_score(y_test, naive_bayes.predict(X_test), pos_label=\"spam\"):.3f}')\n",
    "print(f'F1-Score : {f1_score(y_test, naive_bayes.predict(X_test), pos_label=\"spam\"):.3f}')"
   ]
  },
  {
   "cell_type": "code",
   "execution_count": 33,
   "id": "friendly-father",
   "metadata": {
    "execution": {
     "iopub.execute_input": "2021-04-02T17:39:55.914026Z",
     "iopub.status.busy": "2021-04-02T17:39:55.913306Z",
     "iopub.status.idle": "2021-04-02T17:39:55.919447Z",
     "shell.execute_reply": "2021-04-02T17:39:55.918717Z"
    },
    "papermill": {
     "duration": 0.048619,
     "end_time": "2021-04-02T17:39:55.919636",
     "exception": false,
     "start_time": "2021-04-02T17:39:55.871017",
     "status": "completed"
    },
    "tags": []
   },
   "outputs": [],
   "source": [
    "predictions = naive_bayes.predict(X_test)"
   ]
  },
  {
   "cell_type": "code",
   "execution_count": 34,
   "id": "young-conviction",
   "metadata": {
    "execution": {
     "iopub.execute_input": "2021-04-02T17:39:56.004360Z",
     "iopub.status.busy": "2021-04-02T17:39:56.003667Z",
     "iopub.status.idle": "2021-04-02T17:39:56.007799Z",
     "shell.execute_reply": "2021-04-02T17:39:56.007140Z"
    },
    "papermill": {
     "duration": 0.0492,
     "end_time": "2021-04-02T17:39:56.007942",
     "exception": false,
     "start_time": "2021-04-02T17:39:55.958742",
     "status": "completed"
    },
    "tags": []
   },
   "outputs": [
    {
     "name": "stdout",
     "output_type": "stream",
     "text": [
      "['ham' 'ham' 'ham' ... 'ham' 'ham' 'ham']\n"
     ]
    }
   ],
   "source": [
    "print(predictions)"
   ]
  },
  {
   "cell_type": "code",
   "execution_count": 35,
   "id": "intelligent-bangkok",
   "metadata": {
    "execution": {
     "iopub.execute_input": "2021-04-02T17:39:56.090857Z",
     "iopub.status.busy": "2021-04-02T17:39:56.090077Z",
     "iopub.status.idle": "2021-04-02T17:39:56.169082Z",
     "shell.execute_reply": "2021-04-02T17:39:56.168357Z"
    },
    "papermill": {
     "duration": 0.12147,
     "end_time": "2021-04-02T17:39:56.169230",
     "exception": false,
     "start_time": "2021-04-02T17:39:56.047760",
     "status": "completed"
    },
    "tags": []
   },
   "outputs": [
    {
     "name": "stdout",
     "output_type": "stream",
     "text": [
      "              precision    recall  f1-score   support\n",
      "\n",
      "         ham       0.99      1.00      0.99      1448\n",
      "        spam       0.97      0.91      0.94       224\n",
      "\n",
      "    accuracy                           0.98      1672\n",
      "   macro avg       0.98      0.95      0.96      1672\n",
      "weighted avg       0.98      0.98      0.98      1672\n",
      "\n"
     ]
    }
   ],
   "source": [
    "print (classification_report(y_test, predictions))"
   ]
  },
  {
   "cell_type": "markdown",
   "id": "pleased-detroit",
   "metadata": {
    "papermill": {
     "duration": 0.039408,
     "end_time": "2021-04-02T17:39:56.249916",
     "exception": false,
     "start_time": "2021-04-02T17:39:56.210508",
     "status": "completed"
    },
    "tags": []
   },
   "source": [
    "****Support Vector Machine Classifier"
   ]
  },
  {
   "cell_type": "code",
   "execution_count": 36,
   "id": "continued-repository",
   "metadata": {
    "execution": {
     "iopub.execute_input": "2021-04-02T17:39:56.334888Z",
     "iopub.status.busy": "2021-04-02T17:39:56.334172Z",
     "iopub.status.idle": "2021-04-02T17:39:56.605173Z",
     "shell.execute_reply": "2021-04-02T17:39:56.604331Z"
    },
    "papermill": {
     "duration": 0.315328,
     "end_time": "2021-04-02T17:39:56.605328",
     "exception": false,
     "start_time": "2021-04-02T17:39:56.290000",
     "status": "completed"
    },
    "tags": []
   },
   "outputs": [],
   "source": [
    "svm_clf = SVC(kernel='linear').fit(X_train, y_train)"
   ]
  },
  {
   "cell_type": "code",
   "execution_count": 37,
   "id": "boxed-connection",
   "metadata": {
    "execution": {
     "iopub.execute_input": "2021-04-02T17:39:56.692825Z",
     "iopub.status.busy": "2021-04-02T17:39:56.692149Z",
     "iopub.status.idle": "2021-04-02T17:39:57.091714Z",
     "shell.execute_reply": "2021-04-02T17:39:57.091094Z"
    },
    "papermill": {
     "duration": 0.446122,
     "end_time": "2021-04-02T17:39:57.091859",
     "exception": false,
     "start_time": "2021-04-02T17:39:56.645737",
     "status": "completed"
    },
    "tags": []
   },
   "outputs": [
    {
     "name": "stdout",
     "output_type": "stream",
     "text": [
      "Accuracy : 0.979\n",
      "Precision : 0.990\n",
      "Recall : 0.853\n",
      "F1-Score : 0.916\n"
     ]
    }
   ],
   "source": [
    "print(f'Accuracy : {accuracy_score(y_test, svm_clf.predict(X_test)):.3f}')\n",
    "print(f'Precision : {precision_score(y_test, svm_clf.predict(X_test), pos_label=\"spam\"):.3f}')\n",
    "print(f'Recall : {recall_score(y_test, svm_clf.predict(X_test), pos_label=\"spam\"):.3f}')\n",
    "print(f'F1-Score : {f1_score(y_test, svm_clf.predict(X_test), pos_label=\"spam\"):.3f}')"
   ]
  },
  {
   "cell_type": "code",
   "execution_count": 38,
   "id": "ongoing-genesis",
   "metadata": {
    "execution": {
     "iopub.execute_input": "2021-04-02T17:39:57.189745Z",
     "iopub.status.busy": "2021-04-02T17:39:57.189066Z",
     "iopub.status.idle": "2021-04-02T17:39:57.285444Z",
     "shell.execute_reply": "2021-04-02T17:39:57.284167Z"
    },
    "papermill": {
     "duration": 0.152622,
     "end_time": "2021-04-02T17:39:57.285693",
     "exception": false,
     "start_time": "2021-04-02T17:39:57.133071",
     "status": "completed"
    },
    "tags": []
   },
   "outputs": [],
   "source": [
    "svm_predictions = svm_clf.predict(X_test)"
   ]
  },
  {
   "cell_type": "code",
   "execution_count": 39,
   "id": "convinced-fitting",
   "metadata": {
    "execution": {
     "iopub.execute_input": "2021-04-02T17:39:57.447745Z",
     "iopub.status.busy": "2021-04-02T17:39:57.427926Z",
     "iopub.status.idle": "2021-04-02T17:39:57.473070Z",
     "shell.execute_reply": "2021-04-02T17:39:57.472302Z"
    },
    "papermill": {
     "duration": 0.138917,
     "end_time": "2021-04-02T17:39:57.473220",
     "exception": false,
     "start_time": "2021-04-02T17:39:57.334303",
     "status": "completed"
    },
    "tags": []
   },
   "outputs": [
    {
     "name": "stdout",
     "output_type": "stream",
     "text": [
      "              precision    recall  f1-score   support\n",
      "\n",
      "         ham       0.98      1.00      0.99      1448\n",
      "        spam       0.99      0.85      0.92       224\n",
      "\n",
      "    accuracy                           0.98      1672\n",
      "   macro avg       0.98      0.93      0.95      1672\n",
      "weighted avg       0.98      0.98      0.98      1672\n",
      "\n"
     ]
    }
   ],
   "source": [
    "print (classification_report(y_test, svm_predictions))"
   ]
  }
 ],
 "metadata": {
  "kernelspec": {
   "display_name": "Python 3",
   "language": "python",
   "name": "python3"
  },
  "language_info": {
   "codemirror_mode": {
    "name": "ipython",
    "version": 3
   },
   "file_extension": ".py",
   "mimetype": "text/x-python",
   "name": "python",
   "nbconvert_exporter": "python",
   "pygments_lexer": "ipython3",
   "version": "3.7.9"
  },
  "papermill": {
   "default_parameters": {},
   "duration": 349.842899,
   "end_time": "2021-04-02T17:39:58.226963",
   "environment_variables": {},
   "exception": null,
   "input_path": "__notebook__.ipynb",
   "output_path": "__notebook__.ipynb",
   "parameters": {},
   "start_time": "2021-04-02T17:34:08.384064",
   "version": "2.3.2"
  }
 },
 "nbformat": 4,
 "nbformat_minor": 5
}
